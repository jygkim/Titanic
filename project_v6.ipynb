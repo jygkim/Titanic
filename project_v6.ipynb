{
 "cells": [
  {
   "cell_type": "markdown",
   "id": "7471263d",
   "metadata": {},
   "source": [
    "# <center>STA 142 A Project - Kaggle Titanic Machine Learning Challenge</center>"
   ]
  },
  {
   "cell_type": "markdown",
   "id": "86972e53",
   "metadata": {},
   "source": [
    "### Member1: Yuyan Fan \n",
    "\n",
    "### Member2:\n",
    "\n",
    "### Member3:"
   ]
  },
  {
   "cell_type": "markdown",
   "id": "00472865",
   "metadata": {},
   "source": [
    "# I. Introduction(not done yet)"
   ]
  },
  {
   "cell_type": "markdown",
   "id": "15e58bd6",
   "metadata": {},
   "source": [
    "On April 15, 1912, during Titanic's maiden voyage, it sank after colliding with an iceberg. Unfortunately, there weren’t enough lifeboats for everyone onboard, resulting in the death of 1502 out of 2224 passengers and crew.\n",
    "\n",
    "While there was some element of luck involved in surviving, it seems some groups of people were more likely to survive than others.\n",
    "\n",
    "In this report, we will build a  model that answers the question: “what sorts of people were more likely to survive?”\n",
    "\n",
    "The dataset is from kaggle titanic competition(https://www.kaggle.com/c/titanic)\n",
    "\n",
    "In this project, we will be..."
   ]
  },
  {
   "cell_type": "markdown",
   "id": "20411376",
   "metadata": {},
   "source": [
    "# II. Methodology"
   ]
  },
  {
   "cell_type": "code",
   "execution_count": 115,
   "id": "16fdde5f",
   "metadata": {},
   "outputs": [],
   "source": [
    "import pandas as pd\n",
    "import numpy as np\n",
    "import matplotlib.pyplot as plt\n",
    "import seaborn as sns\n",
    "%matplotlib inline"
   ]
  },
  {
   "cell_type": "code",
   "execution_count": 116,
   "id": "cba62778",
   "metadata": {},
   "outputs": [],
   "source": [
    "# load the data\n",
    "train = pd.read_csv(\"train.csv\")\n",
    "test = pd.read_csv(\"test.csv\")"
   ]
  },
  {
   "cell_type": "code",
   "execution_count": 85,
   "id": "298fece6",
   "metadata": {},
   "outputs": [
    {
     "data": {
      "text/html": [
       "<div>\n",
       "<style scoped>\n",
       "    .dataframe tbody tr th:only-of-type {\n",
       "        vertical-align: middle;\n",
       "    }\n",
       "\n",
       "    .dataframe tbody tr th {\n",
       "        vertical-align: top;\n",
       "    }\n",
       "\n",
       "    .dataframe thead th {\n",
       "        text-align: right;\n",
       "    }\n",
       "</style>\n",
       "<table border=\"1\" class=\"dataframe\">\n",
       "  <thead>\n",
       "    <tr style=\"text-align: right;\">\n",
       "      <th></th>\n",
       "      <th>PassengerId</th>\n",
       "      <th>Survived</th>\n",
       "      <th>Pclass</th>\n",
       "      <th>Name</th>\n",
       "      <th>Sex</th>\n",
       "      <th>Age</th>\n",
       "      <th>SibSp</th>\n",
       "      <th>Parch</th>\n",
       "      <th>Ticket</th>\n",
       "      <th>Fare</th>\n",
       "      <th>Cabin</th>\n",
       "      <th>Embarked</th>\n",
       "    </tr>\n",
       "  </thead>\n",
       "  <tbody>\n",
       "    <tr>\n",
       "      <th>0</th>\n",
       "      <td>1</td>\n",
       "      <td>0</td>\n",
       "      <td>3</td>\n",
       "      <td>Braund, Mr. Owen Harris</td>\n",
       "      <td>male</td>\n",
       "      <td>22.0</td>\n",
       "      <td>1</td>\n",
       "      <td>0</td>\n",
       "      <td>A/5 21171</td>\n",
       "      <td>7.2500</td>\n",
       "      <td>NaN</td>\n",
       "      <td>S</td>\n",
       "    </tr>\n",
       "    <tr>\n",
       "      <th>1</th>\n",
       "      <td>2</td>\n",
       "      <td>1</td>\n",
       "      <td>1</td>\n",
       "      <td>Cumings, Mrs. John Bradley (Florence Briggs Th...</td>\n",
       "      <td>female</td>\n",
       "      <td>38.0</td>\n",
       "      <td>1</td>\n",
       "      <td>0</td>\n",
       "      <td>PC 17599</td>\n",
       "      <td>71.2833</td>\n",
       "      <td>C85</td>\n",
       "      <td>C</td>\n",
       "    </tr>\n",
       "    <tr>\n",
       "      <th>2</th>\n",
       "      <td>3</td>\n",
       "      <td>1</td>\n",
       "      <td>3</td>\n",
       "      <td>Heikkinen, Miss. Laina</td>\n",
       "      <td>female</td>\n",
       "      <td>26.0</td>\n",
       "      <td>0</td>\n",
       "      <td>0</td>\n",
       "      <td>STON/O2. 3101282</td>\n",
       "      <td>7.9250</td>\n",
       "      <td>NaN</td>\n",
       "      <td>S</td>\n",
       "    </tr>\n",
       "    <tr>\n",
       "      <th>3</th>\n",
       "      <td>4</td>\n",
       "      <td>1</td>\n",
       "      <td>1</td>\n",
       "      <td>Futrelle, Mrs. Jacques Heath (Lily May Peel)</td>\n",
       "      <td>female</td>\n",
       "      <td>35.0</td>\n",
       "      <td>1</td>\n",
       "      <td>0</td>\n",
       "      <td>113803</td>\n",
       "      <td>53.1000</td>\n",
       "      <td>C123</td>\n",
       "      <td>S</td>\n",
       "    </tr>\n",
       "    <tr>\n",
       "      <th>4</th>\n",
       "      <td>5</td>\n",
       "      <td>0</td>\n",
       "      <td>3</td>\n",
       "      <td>Allen, Mr. William Henry</td>\n",
       "      <td>male</td>\n",
       "      <td>35.0</td>\n",
       "      <td>0</td>\n",
       "      <td>0</td>\n",
       "      <td>373450</td>\n",
       "      <td>8.0500</td>\n",
       "      <td>NaN</td>\n",
       "      <td>S</td>\n",
       "    </tr>\n",
       "  </tbody>\n",
       "</table>\n",
       "</div>"
      ],
      "text/plain": [
       "   PassengerId  Survived  Pclass  \\\n",
       "0            1         0       3   \n",
       "1            2         1       1   \n",
       "2            3         1       3   \n",
       "3            4         1       1   \n",
       "4            5         0       3   \n",
       "\n",
       "                                                Name     Sex   Age  SibSp  \\\n",
       "0                            Braund, Mr. Owen Harris    male  22.0      1   \n",
       "1  Cumings, Mrs. John Bradley (Florence Briggs Th...  female  38.0      1   \n",
       "2                             Heikkinen, Miss. Laina  female  26.0      0   \n",
       "3       Futrelle, Mrs. Jacques Heath (Lily May Peel)  female  35.0      1   \n",
       "4                           Allen, Mr. William Henry    male  35.0      0   \n",
       "\n",
       "   Parch            Ticket     Fare Cabin Embarked  \n",
       "0      0         A/5 21171   7.2500   NaN        S  \n",
       "1      0          PC 17599  71.2833   C85        C  \n",
       "2      0  STON/O2. 3101282   7.9250   NaN        S  \n",
       "3      0            113803  53.1000  C123        S  \n",
       "4      0            373450   8.0500   NaN        S  "
      ]
     },
     "execution_count": 85,
     "metadata": {},
     "output_type": "execute_result"
    }
   ],
   "source": [
    "train.head()"
   ]
  },
  {
   "cell_type": "code",
   "execution_count": 86,
   "id": "83ad2d6f",
   "metadata": {},
   "outputs": [
    {
     "data": {
      "text/plain": [
       "(891, 12)"
      ]
     },
     "execution_count": 86,
     "metadata": {},
     "output_type": "execute_result"
    }
   ],
   "source": [
    "train.shape"
   ]
  },
  {
   "cell_type": "markdown",
   "id": "eda27de5",
   "metadata": {},
   "source": [
    "* There are 891 entries of data and 12 variables."
   ]
  },
  {
   "cell_type": "markdown",
   "id": "3ec125b9",
   "metadata": {},
   "source": [
    "### Data dictionary"
   ]
  },
  {
   "cell_type": "code",
   "execution_count": 87,
   "id": "3bbf09f9",
   "metadata": {},
   "outputs": [
    {
     "data": {
      "text/html": [
       "<div>\n",
       "<style scoped>\n",
       "    .dataframe tbody tr th:only-of-type {\n",
       "        vertical-align: middle;\n",
       "    }\n",
       "\n",
       "    .dataframe tbody tr th {\n",
       "        vertical-align: top;\n",
       "    }\n",
       "\n",
       "    .dataframe thead th {\n",
       "        text-align: right;\n",
       "    }\n",
       "</style>\n",
       "<table border=\"1\" class=\"dataframe\">\n",
       "  <thead>\n",
       "    <tr style=\"text-align: right;\">\n",
       "      <th></th>\n",
       "      <th>Variable</th>\n",
       "      <th>Description</th>\n",
       "    </tr>\n",
       "  </thead>\n",
       "  <tbody>\n",
       "    <tr>\n",
       "      <th>0</th>\n",
       "      <td>PassengerId</td>\n",
       "      <td>Passenger ID</td>\n",
       "    </tr>\n",
       "    <tr>\n",
       "      <th>1</th>\n",
       "      <td>Survived</td>\n",
       "      <td>Survived or not. = No, 1 = Yes</td>\n",
       "    </tr>\n",
       "    <tr>\n",
       "      <th>2</th>\n",
       "      <td>Pclass</td>\n",
       "      <td>Ticket class. 1 = 1st, 2 = 2nd, 3 = 3rd</td>\n",
       "    </tr>\n",
       "    <tr>\n",
       "      <th>3</th>\n",
       "      <td>Name</td>\n",
       "      <td>Name</td>\n",
       "    </tr>\n",
       "    <tr>\n",
       "      <th>4</th>\n",
       "      <td>Sex</td>\n",
       "      <td>Sex</td>\n",
       "    </tr>\n",
       "    <tr>\n",
       "      <th>5</th>\n",
       "      <td>Age</td>\n",
       "      <td>Age</td>\n",
       "    </tr>\n",
       "    <tr>\n",
       "      <th>6</th>\n",
       "      <td>SibSp</td>\n",
       "      <td>number of siblings or spouses aboard the Titanic</td>\n",
       "    </tr>\n",
       "    <tr>\n",
       "      <th>7</th>\n",
       "      <td>Parch</td>\n",
       "      <td>number of parents or children aboard the Titanic</td>\n",
       "    </tr>\n",
       "    <tr>\n",
       "      <th>8</th>\n",
       "      <td>Ticket</td>\n",
       "      <td>Ticket number</td>\n",
       "    </tr>\n",
       "    <tr>\n",
       "      <th>9</th>\n",
       "      <td>Fare</td>\n",
       "      <td>Passenger fare</td>\n",
       "    </tr>\n",
       "    <tr>\n",
       "      <th>10</th>\n",
       "      <td>Cabin</td>\n",
       "      <td>Cabin number</td>\n",
       "    </tr>\n",
       "    <tr>\n",
       "      <th>11</th>\n",
       "      <td>Embarked</td>\n",
       "      <td>Port of Embarkation. C = Cherbourg, Q = Queens...</td>\n",
       "    </tr>\n",
       "  </tbody>\n",
       "</table>\n",
       "</div>"
      ],
      "text/plain": [
       "       Variable                                        Description\n",
       "0   PassengerId                                       Passenger ID\n",
       "1      Survived                     Survived or not. = No, 1 = Yes\n",
       "2        Pclass            Ticket class. 1 = 1st, 2 = 2nd, 3 = 3rd\n",
       "3          Name                                               Name\n",
       "4           Sex                                                Sex\n",
       "5           Age                                                Age\n",
       "6         SibSp   number of siblings or spouses aboard the Titanic\n",
       "7         Parch   number of parents or children aboard the Titanic\n",
       "8        Ticket                                      Ticket number\n",
       "9          Fare                                     Passenger fare\n",
       "10        Cabin                                       Cabin number\n",
       "11     Embarked  Port of Embarkation. C = Cherbourg, Q = Queens..."
      ]
     },
     "execution_count": 87,
     "metadata": {},
     "output_type": "execute_result"
    }
   ],
   "source": [
    "d = {'Variable': train.columns,\"Description\" : [\"Passenger ID\",\"Survived or not. = No, 1 = Yes\", \n",
    "                                              \"Ticket class. 1 = 1st, 2 = 2nd, 3 = 3rd\",\n",
    "                                              \"Name\",\"Sex\",\"Age\",\"number of siblings or spouses aboard the Titanic\",\n",
    "                                              \"number of parents or children aboard the Titanic\",\n",
    "                                              \"Ticket number\",\"Passenger fare\",\"Cabin number\",\n",
    "                                              \"Port of Embarkation. C = Cherbourg, Q = Queenstown, S = Southampton.\"]}\n",
    "df_dis = pd.DataFrame(data = d)\n",
    "df_dis"
   ]
  },
  {
   "cell_type": "markdown",
   "id": "7d9cf5ea",
   "metadata": {},
   "source": [
    "### Description of numeric data"
   ]
  },
  {
   "cell_type": "code",
   "execution_count": 88,
   "id": "cd5114d8",
   "metadata": {},
   "outputs": [
    {
     "data": {
      "text/html": [
       "<div>\n",
       "<style scoped>\n",
       "    .dataframe tbody tr th:only-of-type {\n",
       "        vertical-align: middle;\n",
       "    }\n",
       "\n",
       "    .dataframe tbody tr th {\n",
       "        vertical-align: top;\n",
       "    }\n",
       "\n",
       "    .dataframe thead th {\n",
       "        text-align: right;\n",
       "    }\n",
       "</style>\n",
       "<table border=\"1\" class=\"dataframe\">\n",
       "  <thead>\n",
       "    <tr style=\"text-align: right;\">\n",
       "      <th></th>\n",
       "      <th>PassengerId</th>\n",
       "      <th>Survived</th>\n",
       "      <th>Pclass</th>\n",
       "      <th>Age</th>\n",
       "      <th>SibSp</th>\n",
       "      <th>Parch</th>\n",
       "      <th>Fare</th>\n",
       "    </tr>\n",
       "  </thead>\n",
       "  <tbody>\n",
       "    <tr>\n",
       "      <th>count</th>\n",
       "      <td>891.000000</td>\n",
       "      <td>891.000000</td>\n",
       "      <td>891.000000</td>\n",
       "      <td>714.000000</td>\n",
       "      <td>891.000000</td>\n",
       "      <td>891.000000</td>\n",
       "      <td>891.000000</td>\n",
       "    </tr>\n",
       "    <tr>\n",
       "      <th>mean</th>\n",
       "      <td>446.000000</td>\n",
       "      <td>0.383838</td>\n",
       "      <td>2.308642</td>\n",
       "      <td>29.699118</td>\n",
       "      <td>0.523008</td>\n",
       "      <td>0.381594</td>\n",
       "      <td>32.204208</td>\n",
       "    </tr>\n",
       "    <tr>\n",
       "      <th>std</th>\n",
       "      <td>257.353842</td>\n",
       "      <td>0.486592</td>\n",
       "      <td>0.836071</td>\n",
       "      <td>14.526497</td>\n",
       "      <td>1.102743</td>\n",
       "      <td>0.806057</td>\n",
       "      <td>49.693429</td>\n",
       "    </tr>\n",
       "    <tr>\n",
       "      <th>min</th>\n",
       "      <td>1.000000</td>\n",
       "      <td>0.000000</td>\n",
       "      <td>1.000000</td>\n",
       "      <td>0.420000</td>\n",
       "      <td>0.000000</td>\n",
       "      <td>0.000000</td>\n",
       "      <td>0.000000</td>\n",
       "    </tr>\n",
       "    <tr>\n",
       "      <th>25%</th>\n",
       "      <td>223.500000</td>\n",
       "      <td>0.000000</td>\n",
       "      <td>2.000000</td>\n",
       "      <td>20.125000</td>\n",
       "      <td>0.000000</td>\n",
       "      <td>0.000000</td>\n",
       "      <td>7.910400</td>\n",
       "    </tr>\n",
       "    <tr>\n",
       "      <th>50%</th>\n",
       "      <td>446.000000</td>\n",
       "      <td>0.000000</td>\n",
       "      <td>3.000000</td>\n",
       "      <td>28.000000</td>\n",
       "      <td>0.000000</td>\n",
       "      <td>0.000000</td>\n",
       "      <td>14.454200</td>\n",
       "    </tr>\n",
       "    <tr>\n",
       "      <th>75%</th>\n",
       "      <td>668.500000</td>\n",
       "      <td>1.000000</td>\n",
       "      <td>3.000000</td>\n",
       "      <td>38.000000</td>\n",
       "      <td>1.000000</td>\n",
       "      <td>0.000000</td>\n",
       "      <td>31.000000</td>\n",
       "    </tr>\n",
       "    <tr>\n",
       "      <th>max</th>\n",
       "      <td>891.000000</td>\n",
       "      <td>1.000000</td>\n",
       "      <td>3.000000</td>\n",
       "      <td>80.000000</td>\n",
       "      <td>8.000000</td>\n",
       "      <td>6.000000</td>\n",
       "      <td>512.329200</td>\n",
       "    </tr>\n",
       "  </tbody>\n",
       "</table>\n",
       "</div>"
      ],
      "text/plain": [
       "       PassengerId    Survived      Pclass         Age       SibSp  \\\n",
       "count   891.000000  891.000000  891.000000  714.000000  891.000000   \n",
       "mean    446.000000    0.383838    2.308642   29.699118    0.523008   \n",
       "std     257.353842    0.486592    0.836071   14.526497    1.102743   \n",
       "min       1.000000    0.000000    1.000000    0.420000    0.000000   \n",
       "25%     223.500000    0.000000    2.000000   20.125000    0.000000   \n",
       "50%     446.000000    0.000000    3.000000   28.000000    0.000000   \n",
       "75%     668.500000    1.000000    3.000000   38.000000    1.000000   \n",
       "max     891.000000    1.000000    3.000000   80.000000    8.000000   \n",
       "\n",
       "            Parch        Fare  \n",
       "count  891.000000  891.000000  \n",
       "mean     0.381594   32.204208  \n",
       "std      0.806057   49.693429  \n",
       "min      0.000000    0.000000  \n",
       "25%      0.000000    7.910400  \n",
       "50%      0.000000   14.454200  \n",
       "75%      0.000000   31.000000  \n",
       "max      6.000000  512.329200  "
      ]
     },
     "execution_count": 88,
     "metadata": {},
     "output_type": "execute_result"
    }
   ],
   "source": [
    "train.describe()"
   ]
  },
  {
   "cell_type": "markdown",
   "id": "afcb16aa",
   "metadata": {},
   "source": [
    "### Description of categorical data"
   ]
  },
  {
   "cell_type": "code",
   "execution_count": 89,
   "id": "24c78d7f",
   "metadata": {},
   "outputs": [
    {
     "data": {
      "text/html": [
       "<div>\n",
       "<style scoped>\n",
       "    .dataframe tbody tr th:only-of-type {\n",
       "        vertical-align: middle;\n",
       "    }\n",
       "\n",
       "    .dataframe tbody tr th {\n",
       "        vertical-align: top;\n",
       "    }\n",
       "\n",
       "    .dataframe thead th {\n",
       "        text-align: right;\n",
       "    }\n",
       "</style>\n",
       "<table border=\"1\" class=\"dataframe\">\n",
       "  <thead>\n",
       "    <tr style=\"text-align: right;\">\n",
       "      <th></th>\n",
       "      <th>Name</th>\n",
       "      <th>Sex</th>\n",
       "      <th>Ticket</th>\n",
       "      <th>Cabin</th>\n",
       "      <th>Embarked</th>\n",
       "    </tr>\n",
       "  </thead>\n",
       "  <tbody>\n",
       "    <tr>\n",
       "      <th>count</th>\n",
       "      <td>891</td>\n",
       "      <td>891</td>\n",
       "      <td>891</td>\n",
       "      <td>204</td>\n",
       "      <td>889</td>\n",
       "    </tr>\n",
       "    <tr>\n",
       "      <th>unique</th>\n",
       "      <td>891</td>\n",
       "      <td>2</td>\n",
       "      <td>681</td>\n",
       "      <td>147</td>\n",
       "      <td>3</td>\n",
       "    </tr>\n",
       "    <tr>\n",
       "      <th>top</th>\n",
       "      <td>Doharr, Mr. Tannous</td>\n",
       "      <td>male</td>\n",
       "      <td>347082</td>\n",
       "      <td>C23 C25 C27</td>\n",
       "      <td>S</td>\n",
       "    </tr>\n",
       "    <tr>\n",
       "      <th>freq</th>\n",
       "      <td>1</td>\n",
       "      <td>577</td>\n",
       "      <td>7</td>\n",
       "      <td>4</td>\n",
       "      <td>644</td>\n",
       "    </tr>\n",
       "  </tbody>\n",
       "</table>\n",
       "</div>"
      ],
      "text/plain": [
       "                       Name   Sex  Ticket        Cabin Embarked\n",
       "count                   891   891     891          204      889\n",
       "unique                  891     2     681          147        3\n",
       "top     Doharr, Mr. Tannous  male  347082  C23 C25 C27        S\n",
       "freq                      1   577       7            4      644"
      ]
     },
     "execution_count": 89,
     "metadata": {},
     "output_type": "execute_result"
    }
   ],
   "source": [
    "train.describe(include=['O'])"
   ]
  },
  {
   "cell_type": "markdown",
   "id": "5e5b42b5",
   "metadata": {},
   "source": [
    "(Description of algorithms)"
   ]
  },
  {
   "cell_type": "markdown",
   "id": "e571eb87",
   "metadata": {},
   "source": [
    "# III. Implementation Details"
   ]
  },
  {
   "cell_type": "markdown",
   "id": "21875025",
   "metadata": {},
   "source": [
    "## 1. Data Preparation"
   ]
  },
  {
   "cell_type": "markdown",
   "id": "bc1117d4",
   "metadata": {},
   "source": [
    "### Drop meaningless variables"
   ]
  },
  {
   "cell_type": "code",
   "execution_count": 117,
   "id": "585856e9",
   "metadata": {},
   "outputs": [],
   "source": [
    "train = train.drop(columns=['PassengerId', 'Name', 'Ticket','Cabin'])"
   ]
  },
  {
   "cell_type": "code",
   "execution_count": 118,
   "id": "0929eaeb",
   "metadata": {},
   "outputs": [],
   "source": [
    "test = test.drop(columns=['PassengerId', 'Name', 'Ticket','Cabin'])"
   ]
  },
  {
   "cell_type": "markdown",
   "id": "1278db4c",
   "metadata": {},
   "source": [
    "* PassengerId, Cabin and Ticket are ID made of random numbers, so we dropped them.\n",
    "* Name cannot make a difference to survival rate, so we dropped it as well."
   ]
  },
  {
   "cell_type": "markdown",
   "id": "126c5e37",
   "metadata": {},
   "source": [
    "### Missing values"
   ]
  },
  {
   "cell_type": "code",
   "execution_count": 92,
   "id": "e8abdc9d",
   "metadata": {},
   "outputs": [
    {
     "data": {
      "text/plain": [
       "Survived      0\n",
       "Pclass        0\n",
       "Sex           0\n",
       "Age         177\n",
       "SibSp         0\n",
       "Parch         0\n",
       "Fare          0\n",
       "Embarked      2\n",
       "dtype: int64"
      ]
     },
     "execution_count": 92,
     "metadata": {},
     "output_type": "execute_result"
    }
   ],
   "source": [
    "train.isnull().sum()"
   ]
  },
  {
   "cell_type": "code",
   "execution_count": 93,
   "id": "f4a22826",
   "metadata": {},
   "outputs": [
    {
     "data": {
      "text/plain": [
       "Pclass       0\n",
       "Sex          0\n",
       "Age         86\n",
       "SibSp        0\n",
       "Parch        0\n",
       "Fare         1\n",
       "Embarked     0\n",
       "dtype: int64"
      ]
     },
     "execution_count": 93,
     "metadata": {},
     "output_type": "execute_result"
    }
   ],
   "source": [
    "test.isnull().sum()"
   ]
  },
  {
   "cell_type": "markdown",
   "id": "31e59d82",
   "metadata": {},
   "source": [
    "* There are many missing values in 'Age', but we cannot simply drop the missing values, or even the variable,since that would make us lose $\\frac{177}{891}$ = 19.9% training data. \n",
    "* After doing a little research online on how to handle missing values, we decided to impute missing 'Age' with the mean of age.\n",
    "* Dropping missing values in other variables would be fine, because there are not many."
   ]
  },
  {
   "cell_type": "code",
   "execution_count": 119,
   "id": "abbf06e4",
   "metadata": {},
   "outputs": [],
   "source": [
    "train['Age'].fillna(int(train['Age'].mean()), inplace=True)# refill na with variable mean\n",
    "test['Age'].fillna(int(test['Age'].mean()), inplace=True)"
   ]
  },
  {
   "cell_type": "code",
   "execution_count": 120,
   "id": "c4dfdb66",
   "metadata": {},
   "outputs": [],
   "source": [
    "train = train.dropna()# drop na\n",
    "test = test.dropna()"
   ]
  },
  {
   "cell_type": "code",
   "execution_count": 96,
   "id": "64132a95",
   "metadata": {},
   "outputs": [
    {
     "data": {
      "text/plain": [
       "Pclass      0\n",
       "Sex         0\n",
       "Age         0\n",
       "SibSp       0\n",
       "Parch       0\n",
       "Fare        0\n",
       "Embarked    0\n",
       "dtype: int64"
      ]
     },
     "execution_count": 96,
     "metadata": {},
     "output_type": "execute_result"
    }
   ],
   "source": [
    "test.isna().sum()"
   ]
  },
  {
   "cell_type": "markdown",
   "id": "60858225",
   "metadata": {},
   "source": [
    "### Data converting"
   ]
  },
  {
   "cell_type": "markdown",
   "id": "02e81743",
   "metadata": {},
   "source": [
    "* Our algorithm cannot deal with catagorical values, so we convert them into numeric ones.\n",
    "* Sex: 1 = male; 0 = female\n",
    "* Embarked: 0 = C; 1 = Q; 2 = S"
   ]
  },
  {
   "cell_type": "code",
   "execution_count": 121,
   "id": "a3a717bb",
   "metadata": {},
   "outputs": [],
   "source": [
    "from sklearn import preprocessing\n",
    "label = preprocessing.LabelEncoder() #make categorical variables into numeric"
   ]
  },
  {
   "cell_type": "code",
   "execution_count": 122,
   "id": "f11ab6d4",
   "metadata": {},
   "outputs": [],
   "source": [
    "# sex\n",
    "def convert_cat(data):\n",
    "    data['Sex'] = label.fit_transform(data['Sex'])\n",
    "    data['Embarked'] = label.fit_transform(data['Embarked'])\n",
    "    return None"
   ]
  },
  {
   "cell_type": "code",
   "execution_count": 123,
   "id": "b9b37b76",
   "metadata": {},
   "outputs": [],
   "source": [
    "convert_cat(train)\n",
    "convert_cat(test)"
   ]
  },
  {
   "cell_type": "code",
   "execution_count": 124,
   "id": "ad4c1c5a",
   "metadata": {},
   "outputs": [
    {
     "data": {
      "text/plain": [
       "0      1\n",
       "1      0\n",
       "2      0\n",
       "3      0\n",
       "4      1\n",
       "      ..\n",
       "886    1\n",
       "887    0\n",
       "888    0\n",
       "889    1\n",
       "890    1\n",
       "Name: Sex, Length: 889, dtype: int64"
      ]
     },
     "execution_count": 124,
     "metadata": {},
     "output_type": "execute_result"
    }
   ],
   "source": [
    "train['Sex']"
   ]
  },
  {
   "cell_type": "code",
   "execution_count": 125,
   "id": "237d1b18",
   "metadata": {},
   "outputs": [
    {
     "data": {
      "text/plain": [
       "0      2\n",
       "1      0\n",
       "2      2\n",
       "3      2\n",
       "4      2\n",
       "      ..\n",
       "886    2\n",
       "887    2\n",
       "888    2\n",
       "889    0\n",
       "890    1\n",
       "Name: Embarked, Length: 889, dtype: int64"
      ]
     },
     "execution_count": 125,
     "metadata": {},
     "output_type": "execute_result"
    }
   ],
   "source": [
    "train['Embarked']"
   ]
  },
  {
   "cell_type": "markdown",
   "id": "5247b8b2",
   "metadata": {},
   "source": [
    "## 2. Exploratory Data Analysis"
   ]
  },
  {
   "cell_type": "markdown",
   "id": "52f9b5c8",
   "metadata": {},
   "source": [
    "### Correlation between the variables"
   ]
  },
  {
   "cell_type": "code",
   "execution_count": 126,
   "id": "1fcbd755",
   "metadata": {},
   "outputs": [
    {
     "data": {
      "text/html": [
       "<div>\n",
       "<style scoped>\n",
       "    .dataframe tbody tr th:only-of-type {\n",
       "        vertical-align: middle;\n",
       "    }\n",
       "\n",
       "    .dataframe tbody tr th {\n",
       "        vertical-align: top;\n",
       "    }\n",
       "\n",
       "    .dataframe thead th {\n",
       "        text-align: right;\n",
       "    }\n",
       "</style>\n",
       "<table border=\"1\" class=\"dataframe\">\n",
       "  <thead>\n",
       "    <tr style=\"text-align: right;\">\n",
       "      <th></th>\n",
       "      <th>Survived</th>\n",
       "      <th>Pclass</th>\n",
       "      <th>Sex</th>\n",
       "      <th>Age</th>\n",
       "      <th>SibSp</th>\n",
       "      <th>Parch</th>\n",
       "      <th>Fare</th>\n",
       "      <th>Embarked</th>\n",
       "    </tr>\n",
       "  </thead>\n",
       "  <tbody>\n",
       "    <tr>\n",
       "      <th>Survived</th>\n",
       "      <td>NaN</td>\n",
       "      <td>-0.335549</td>\n",
       "      <td>-0.541585</td>\n",
       "      <td>-0.072699</td>\n",
       "      <td>-0.034040</td>\n",
       "      <td>0.083151</td>\n",
       "      <td>0.255290</td>\n",
       "      <td>-0.169718</td>\n",
       "    </tr>\n",
       "    <tr>\n",
       "      <th>Pclass</th>\n",
       "      <td>-0.335549</td>\n",
       "      <td>NaN</td>\n",
       "      <td>0.127741</td>\n",
       "      <td>-0.331588</td>\n",
       "      <td>0.081656</td>\n",
       "      <td>0.016824</td>\n",
       "      <td>-0.548193</td>\n",
       "      <td>0.164681</td>\n",
       "    </tr>\n",
       "    <tr>\n",
       "      <th>Sex</th>\n",
       "      <td>-0.541585</td>\n",
       "      <td>0.127741</td>\n",
       "      <td>NaN</td>\n",
       "      <td>0.088257</td>\n",
       "      <td>-0.116348</td>\n",
       "      <td>-0.247508</td>\n",
       "      <td>-0.179958</td>\n",
       "      <td>0.110320</td>\n",
       "    </tr>\n",
       "    <tr>\n",
       "      <th>Age</th>\n",
       "      <td>-0.072699</td>\n",
       "      <td>-0.331588</td>\n",
       "      <td>0.088257</td>\n",
       "      <td>NaN</td>\n",
       "      <td>-0.232227</td>\n",
       "      <td>-0.175512</td>\n",
       "      <td>0.090736</td>\n",
       "      <td>-0.025643</td>\n",
       "    </tr>\n",
       "    <tr>\n",
       "      <th>SibSp</th>\n",
       "      <td>-0.034040</td>\n",
       "      <td>0.081656</td>\n",
       "      <td>-0.116348</td>\n",
       "      <td>-0.232227</td>\n",
       "      <td>NaN</td>\n",
       "      <td>0.414542</td>\n",
       "      <td>0.160887</td>\n",
       "      <td>0.068900</td>\n",
       "    </tr>\n",
       "    <tr>\n",
       "      <th>Parch</th>\n",
       "      <td>0.083151</td>\n",
       "      <td>0.016824</td>\n",
       "      <td>-0.247508</td>\n",
       "      <td>-0.175512</td>\n",
       "      <td>0.414542</td>\n",
       "      <td>NaN</td>\n",
       "      <td>0.217532</td>\n",
       "      <td>0.040449</td>\n",
       "    </tr>\n",
       "    <tr>\n",
       "      <th>Fare</th>\n",
       "      <td>0.255290</td>\n",
       "      <td>-0.548193</td>\n",
       "      <td>-0.179958</td>\n",
       "      <td>0.090736</td>\n",
       "      <td>0.160887</td>\n",
       "      <td>0.217532</td>\n",
       "      <td>NaN</td>\n",
       "      <td>-0.226311</td>\n",
       "    </tr>\n",
       "    <tr>\n",
       "      <th>Embarked</th>\n",
       "      <td>-0.169718</td>\n",
       "      <td>0.164681</td>\n",
       "      <td>0.110320</td>\n",
       "      <td>-0.025643</td>\n",
       "      <td>0.068900</td>\n",
       "      <td>0.040449</td>\n",
       "      <td>-0.226311</td>\n",
       "      <td>NaN</td>\n",
       "    </tr>\n",
       "  </tbody>\n",
       "</table>\n",
       "</div>"
      ],
      "text/plain": [
       "          Survived    Pclass       Sex       Age     SibSp     Parch  \\\n",
       "Survived       NaN -0.335549 -0.541585 -0.072699 -0.034040  0.083151   \n",
       "Pclass   -0.335549       NaN  0.127741 -0.331588  0.081656  0.016824   \n",
       "Sex      -0.541585  0.127741       NaN  0.088257 -0.116348 -0.247508   \n",
       "Age      -0.072699 -0.331588  0.088257       NaN -0.232227 -0.175512   \n",
       "SibSp    -0.034040  0.081656 -0.116348 -0.232227       NaN  0.414542   \n",
       "Parch     0.083151  0.016824 -0.247508 -0.175512  0.414542       NaN   \n",
       "Fare      0.255290 -0.548193 -0.179958  0.090736  0.160887  0.217532   \n",
       "Embarked -0.169718  0.164681  0.110320 -0.025643  0.068900  0.040449   \n",
       "\n",
       "              Fare  Embarked  \n",
       "Survived  0.255290 -0.169718  \n",
       "Pclass   -0.548193  0.164681  \n",
       "Sex      -0.179958  0.110320  \n",
       "Age       0.090736 -0.025643  \n",
       "SibSp     0.160887  0.068900  \n",
       "Parch     0.217532  0.040449  \n",
       "Fare           NaN -0.226311  \n",
       "Embarked -0.226311       NaN  "
      ]
     },
     "execution_count": 126,
     "metadata": {},
     "output_type": "execute_result"
    }
   ],
   "source": [
    "corr = train.corr() # shows only numerical variables\n",
    "corr = corr.replace(1.0, np.nan)\n",
    "corr"
   ]
  },
  {
   "cell_type": "code",
   "execution_count": 127,
   "id": "10d8dc41",
   "metadata": {},
   "outputs": [
    {
     "data": {
      "text/plain": [
       "<matplotlib.axes._subplots.AxesSubplot at 0x7fcc2e3d8070>"
      ]
     },
     "execution_count": 127,
     "metadata": {},
     "output_type": "execute_result"
    },
    {
     "data": {
      "image/png": "[encoded data removed]",
      "text/plain": [
       "<Figure size 432x288 with 2 Axes>"
      ]
     },
     "metadata": {
      "needs_background": "light"
     },
     "output_type": "display_data"
    }
   ],
   "source": [
    "cmap = sns.diverging_palette(10, 220, as_cmap=True)\n",
    "sns.heatmap(corr, vmin=-1.0, vmax=1.0, square=True, cmap=cmap)"
   ]
  },
  {
   "cell_type": "code",
   "execution_count": 128,
   "id": "f615dfc3",
   "metadata": {},
   "outputs": [
    {
     "data": {
      "text/plain": [
       "Survived   -0.541585\n",
       "Pclass     -0.548193\n",
       "Sex        -0.541585\n",
       "Age        -0.331588\n",
       "SibSp      -0.232227\n",
       "Parch      -0.247508\n",
       "Fare       -0.548193\n",
       "Embarked   -0.226311\n",
       "dtype: float64"
      ]
     },
     "execution_count": 128,
     "metadata": {},
     "output_type": "execute_result"
    }
   ],
   "source": [
    "corr.min() # negative correlations"
   ]
  },
  {
   "cell_type": "code",
   "execution_count": 129,
   "id": "4f5a1133",
   "metadata": {},
   "outputs": [
    {
     "name": "stdout",
     "output_type": "stream",
     "text": [
      "Pclass Fare\n"
     ]
    },
    {
     "data": {
      "text/plain": [
       "-0.5481932852366427"
      ]
     },
     "execution_count": 129,
     "metadata": {},
     "output_type": "execute_result"
    }
   ],
   "source": [
    "print(corr.min().idxmin(), corr[corr.min().idxmin()].idxmin()) # the most negative correlation\n",
    "corr.min().min()"
   ]
  },
  {
   "cell_type": "code",
   "execution_count": 130,
   "id": "08061448",
   "metadata": {},
   "outputs": [
    {
     "name": "stdout",
     "output_type": "stream",
     "text": [
      "SibSp Parch\n"
     ]
    },
    {
     "data": {
      "text/plain": [
       "0.41454163809972705"
      ]
     },
     "execution_count": 130,
     "metadata": {},
     "output_type": "execute_result"
    }
   ],
   "source": [
    "print(corr.max().idxmax(), corr[corr.max().idxmax()].idxmax()) # the most positive correlation\n",
    "corr.max().max()"
   ]
  },
  {
   "cell_type": "markdown",
   "id": "6f842dee",
   "metadata": {},
   "source": [
    "* Pclass and Fare are highly correlated with the negative correlation -0.54819.\n",
    "* SibSp and Parch are highly correlated with the positive correlation 0.4145."
   ]
  },
  {
   "cell_type": "markdown",
   "id": "e8c5edd6",
   "metadata": {},
   "source": [
    "### Analysis on each variable"
   ]
  },
  {
   "cell_type": "markdown",
   "id": "d92bc6f3",
   "metadata": {},
   "source": [
    "### Pclass"
   ]
  },
  {
   "cell_type": "code",
   "execution_count": 131,
   "id": "65fb5ddc",
   "metadata": {},
   "outputs": [
    {
     "data": {
      "text/plain": [
       "<seaborn.axisgrid.FacetGrid at 0x7fcc2e3d8040>"
      ]
     },
     "execution_count": 131,
     "metadata": {},
     "output_type": "execute_result"
    },
    {
     "data": {
      "image/png": "[encoded data removed]",
      "text/plain": [
       "<Figure size 360x360 with 1 Axes>"
      ]
     },
     "metadata": {
      "needs_background": "light"
     },
     "output_type": "display_data"
    }
   ],
   "source": [
    "sns.displot(train,x='Pclass') #histogram of Pclass Variable"
   ]
  },
  {
   "cell_type": "code",
   "execution_count": 132,
   "id": "e0985986",
   "metadata": {},
   "outputs": [
    {
     "data": {
      "text/plain": [
       "Pclass\n",
       "1    0.626168\n",
       "2    0.472826\n",
       "3    0.242363\n",
       "Name: Survived, dtype: float64"
      ]
     },
     "execution_count": 132,
     "metadata": {},
     "output_type": "execute_result"
    }
   ],
   "source": [
    "train.groupby(by=\"Pclass\").mean().iloc[:,0] "
   ]
  },
  {
   "cell_type": "code",
   "execution_count": 133,
   "id": "bc4a7233",
   "metadata": {},
   "outputs": [
    {
     "data": {
      "text/plain": [
       "<seaborn.axisgrid.FacetGrid at 0x7fcc2ed82820>"
      ]
     },
     "execution_count": 133,
     "metadata": {},
     "output_type": "execute_result"
    },
    {
     "data": {
      "image/png": "[encoded data removed]",
      "text/plain": [
       "<Figure size 411.875x360 with 1 Axes>"
      ]
     },
     "metadata": {
      "needs_background": "light"
     },
     "output_type": "display_data"
    }
   ],
   "source": [
    "sns.catplot(x='Pclass',hue='Survived',data=train,kind=\"count\") #histogram of Pclass based on Survival"
   ]
  },
  {
   "cell_type": "markdown",
   "id": "623ecf71",
   "metadata": {},
   "source": [
    "* It seems that around the same amount from each class survived, but more people in the $3^{rd}$ ticket class has the lowest survival rate."
   ]
  },
  {
   "cell_type": "markdown",
   "id": "279592bb",
   "metadata": {},
   "source": [
    "## Sex"
   ]
  },
  {
   "cell_type": "code",
   "execution_count": 134,
   "id": "6caed7a5",
   "metadata": {},
   "outputs": [
    {
     "data": {
      "text/plain": [
       "<seaborn.axisgrid.FacetGrid at 0x7fcc2edeb280>"
      ]
     },
     "execution_count": 134,
     "metadata": {},
     "output_type": "execute_result"
    },
    {
     "data": {
      "image/png": "[encoded data removed]",
      "text/plain": [
       "<Figure size 360x360 with 1 Axes>"
      ]
     },
     "metadata": {
      "needs_background": "light"
     },
     "output_type": "display_data"
    }
   ],
   "source": [
    "sns.displot(data = train,x='Sex') #histogram of Sex Variable"
   ]
  },
  {
   "cell_type": "code",
   "execution_count": 135,
   "id": "2ec59361",
   "metadata": {},
   "outputs": [
    {
     "data": {
      "text/plain": [
       "<seaborn.axisgrid.FacetGrid at 0x7fcc2eeeab50>"
      ]
     },
     "execution_count": 135,
     "metadata": {},
     "output_type": "execute_result"
    },
    {
     "data": {
      "image/png": "[encoded data removed]",
      "text/plain": [
       "<Figure size 411.875x360 with 1 Axes>"
      ]
     },
     "metadata": {
      "needs_background": "light"
     },
     "output_type": "display_data"
    }
   ],
   "source": [
    "sns.catplot(x='Sex',hue='Survived',data=train,kind=\"count\") #histogram of Sex based on Survival"
   ]
  },
  {
   "cell_type": "markdown",
   "id": "005e7276",
   "metadata": {},
   "source": [
    "* Females had a higher proportion of survival."
   ]
  },
  {
   "cell_type": "markdown",
   "id": "a36c8626",
   "metadata": {},
   "source": [
    "## Age"
   ]
  },
  {
   "cell_type": "code",
   "execution_count": 136,
   "id": "9bf1962f",
   "metadata": {},
   "outputs": [
    {
     "data": {
      "text/plain": [
       "<seaborn.axisgrid.FacetGrid at 0x7fcc2f1a50d0>"
      ]
     },
     "execution_count": 136,
     "metadata": {},
     "output_type": "execute_result"
    },
    {
     "data": {
      "image/png": "[encoded data removed]",
      "text/plain": [
       "<Figure size 360x360 with 1 Axes>"
      ]
     },
     "metadata": {
      "needs_background": "light"
     },
     "output_type": "display_data"
    }
   ],
   "source": [
    "sns.displot(train,x='Age') #histogram of Sex Variable"
   ]
  },
  {
   "cell_type": "code",
   "execution_count": 137,
   "id": "e1d7ea9b",
   "metadata": {},
   "outputs": [
    {
     "data": {
      "text/plain": [
       "<matplotlib.axes._subplots.AxesSubplot at 0x7fcc2f4acbb0>"
      ]
     },
     "execution_count": 137,
     "metadata": {},
     "output_type": "execute_result"
    },
    {
     "data": {
      "image/png": "[encoded data removed]",
      "text/plain": [
       "<Figure size 432x288 with 1 Axes>"
      ]
     },
     "metadata": {
      "needs_background": "light"
     },
     "output_type": "display_data"
    }
   ],
   "source": [
    "sns.boxplot(x='Survived',y='Age', data = train) #box plot of Age separated by whether they survived or not"
   ]
  },
  {
   "cell_type": "markdown",
   "id": "cc81b1d3",
   "metadata": {},
   "source": [
    "* Both of the boxplots look similar to one another. But if we divide age into different age groups, the survival rate of different groups vary and the differences are noticeable."
   ]
  },
  {
   "cell_type": "code",
   "execution_count": 138,
   "id": "803f0b37",
   "metadata": {},
   "outputs": [
    {
     "data": {
      "text/plain": [
       "<seaborn.axisgrid.FacetGrid at 0x7fcc2f5a7be0>"
      ]
     },
     "execution_count": 138,
     "metadata": {},
     "output_type": "execute_result"
    },
    {
     "data": {
      "image/png": "[encoded data removed]",
      "text/plain": [
       "<Figure size 762.375x360 with 2 Axes>"
      ]
     },
     "metadata": {
      "needs_background": "light"
     },
     "output_type": "display_data"
    }
   ],
   "source": [
    "#sns.scatterplot(x='Age', y='Survived', data=new_train,hue='Pclass', style='Sex')\n",
    "sns.catplot(y='Age',x='Survived',col='Sex',hue='Pclass',data=train)\n",
    "\n",
    "# not sure how to interpret this plot"
   ]
  },
  {
   "cell_type": "code",
   "execution_count": 144,
   "id": "82c10a6f",
   "metadata": {},
   "outputs": [],
   "source": [
    "# convert age into groups\n",
    "def conv_age(data):\n",
    "    res = []\n",
    "    for i in data:\n",
    "        if i <= 20:\n",
    "            res.append(0)\n",
    "        elif i <= 40:\n",
    "            res.append(1)\n",
    "        elif i <= 65:\n",
    "            res.append(2)\n",
    "        else:\n",
    "            res.append(3)\n",
    "    return res     "
   ]
  },
  {
   "cell_type": "code",
   "execution_count": 145,
   "id": "4413be1a",
   "metadata": {},
   "outputs": [
    {
     "ename": "TypeError",
     "evalue": "'<=' not supported between instances of 'str' and 'int'",
     "output_type": "error",
     "traceback": [
      "\u001b[0;31m---------------------------------------------------------------------------\u001b[0m",
      "\u001b[0;31mTypeError\u001b[0m                                 Traceback (most recent call last)",
      "\u001b[0;32m<ipython-input-145-0db75e76d77d>\u001b[0m in \u001b[0;36m<module>\u001b[0;34m\u001b[0m\n\u001b[1;32m      1\u001b[0m \u001b[0mtest\u001b[0m\u001b[0;34m[\u001b[0m\u001b[0;34m'Age'\u001b[0m\u001b[0;34m]\u001b[0m \u001b[0;34m=\u001b[0m \u001b[0mconv_age\u001b[0m\u001b[0;34m(\u001b[0m\u001b[0mtest\u001b[0m\u001b[0;34m[\u001b[0m\u001b[0;34m'Age'\u001b[0m\u001b[0;34m]\u001b[0m\u001b[0;34m)\u001b[0m\u001b[0;34m\u001b[0m\u001b[0;34m\u001b[0m\u001b[0m\n\u001b[0;32m----> 2\u001b[0;31m \u001b[0mtrain\u001b[0m\u001b[0;34m[\u001b[0m\u001b[0;34m'Age'\u001b[0m\u001b[0;34m]\u001b[0m \u001b[0;34m=\u001b[0m \u001b[0mconv_age\u001b[0m\u001b[0;34m(\u001b[0m\u001b[0mtrain\u001b[0m\u001b[0;34m)\u001b[0m\u001b[0;34m\u001b[0m\u001b[0;34m\u001b[0m\u001b[0m\n\u001b[0m",
      "\u001b[0;32m<ipython-input-144-2fe4d93ae570>\u001b[0m in \u001b[0;36mconv_age\u001b[0;34m(data)\u001b[0m\n\u001b[1;32m      3\u001b[0m     \u001b[0mres\u001b[0m \u001b[0;34m=\u001b[0m \u001b[0;34m[\u001b[0m\u001b[0;34m]\u001b[0m\u001b[0;34m\u001b[0m\u001b[0;34m\u001b[0m\u001b[0m\n\u001b[1;32m      4\u001b[0m     \u001b[0;32mfor\u001b[0m \u001b[0mi\u001b[0m \u001b[0;32min\u001b[0m \u001b[0mdata\u001b[0m\u001b[0;34m:\u001b[0m\u001b[0;34m\u001b[0m\u001b[0;34m\u001b[0m\u001b[0m\n\u001b[0;32m----> 5\u001b[0;31m         \u001b[0;32mif\u001b[0m \u001b[0mi\u001b[0m \u001b[0;34m<=\u001b[0m \u001b[0;36m20\u001b[0m\u001b[0;34m:\u001b[0m\u001b[0;34m\u001b[0m\u001b[0;34m\u001b[0m\u001b[0m\n\u001b[0m\u001b[1;32m      6\u001b[0m             \u001b[0mres\u001b[0m\u001b[0;34m.\u001b[0m\u001b[0mappend\u001b[0m\u001b[0;34m(\u001b[0m\u001b[0;36m0\u001b[0m\u001b[0;34m)\u001b[0m\u001b[0;34m\u001b[0m\u001b[0;34m\u001b[0m\u001b[0m\n\u001b[1;32m      7\u001b[0m         \u001b[0;32melif\u001b[0m \u001b[0mi\u001b[0m \u001b[0;34m<=\u001b[0m \u001b[0;36m40\u001b[0m\u001b[0;34m:\u001b[0m\u001b[0;34m\u001b[0m\u001b[0;34m\u001b[0m\u001b[0m\n",
      "\u001b[0;31mTypeError\u001b[0m: '<=' not supported between instances of 'str' and 'int'"
     ]
    }
   ],
   "source": [
    "test['Age'] = conv_age(test['Age'])"
   ]
  },
  {
   "cell_type": "code",
   "execution_count": 146,
   "id": "39f2d33b",
   "metadata": {},
   "outputs": [],
   "source": [
    "train['Age'] = conv_age(train['Age'])"
   ]
  },
  {
   "cell_type": "code",
   "execution_count": 149,
   "id": "6911c38c",
   "metadata": {},
   "outputs": [
    {
     "data": {
      "text/plain": [
       "<seaborn.axisgrid.FacetGrid at 0x7fcc2e9a1730>"
      ]
     },
     "execution_count": 149,
     "metadata": {},
     "output_type": "execute_result"
    },
    {
     "data": {
      "image/png": "[encoded data removed]",
      "text/plain": [
       "<Figure size 411.875x360 with 1 Axes>"
      ]
     },
     "metadata": {
      "needs_background": "light"
     },
     "output_type": "display_data"
    }
   ],
   "source": [
    "sns.catplot(x='Age',hue='Survived',data=train,kind=\"count\")"
   ]
  },
  {
   "cell_type": "code",
   "execution_count": 150,
   "id": "0d94b9a5",
   "metadata": {},
   "outputs": [
    {
     "data": {
      "text/plain": [
       "Age\n",
       "0    0.458101\n",
       "1    0.363636\n",
       "2    0.375887\n",
       "3    0.125000\n",
       "Name: Survived, dtype: float64"
      ]
     },
     "execution_count": 150,
     "metadata": {},
     "output_type": "execute_result"
    }
   ],
   "source": [
    "train.groupby(by=\"Age\").mean().iloc[:,0] # survival rate for age groups"
   ]
  },
  {
   "cell_type": "markdown",
   "id": "93c36d0c",
   "metadata": {},
   "source": [
    "* Group 3(65+ year old) has the lowest survival rate. Elder people are less likely to survive the harsh environment.\n",
    "* Group 1(0-20 year old) has the highest survival rate. When emegency happens, people tend to let young people go first."
   ]
  },
  {
   "cell_type": "markdown",
   "id": "c28c3a18",
   "metadata": {},
   "source": [
    "## Fare"
   ]
  },
  {
   "cell_type": "code",
   "execution_count": 151,
   "id": "cfc0a740",
   "metadata": {},
   "outputs": [
    {
     "data": {
      "text/plain": [
       "<seaborn.axisgrid.FacetGrid at 0x7fcc3029c100>"
      ]
     },
     "execution_count": 151,
     "metadata": {},
     "output_type": "execute_result"
    },
    {
     "data": {
      "image/png": "[encoded data removed]",
      "text/plain": [
       "<Figure size 360x360 with 1 Axes>"
      ]
     },
     "metadata": {
      "needs_background": "light"
     },
     "output_type": "display_data"
    }
   ],
   "source": [
    "sns.displot(train,x='Fare') #histogram of Fare Variable"
   ]
  },
  {
   "cell_type": "code",
   "execution_count": 152,
   "id": "931bb10b",
   "metadata": {},
   "outputs": [
    {
     "data": {
      "text/plain": [
       "<matplotlib.axes._subplots.AxesSubplot at 0x7fcc30578dc0>"
      ]
     },
     "execution_count": 152,
     "metadata": {},
     "output_type": "execute_result"
    },
    {
     "data": {
      "image/png": "[encoded data removed]",
      "text/plain": [
       "<Figure size 432x288 with 1 Axes>"
      ]
     },
     "metadata": {
      "needs_background": "light"
     },
     "output_type": "display_data"
    }
   ],
   "source": [
    "sns.boxplot(x='Survived',y='Fare', data = train) #box plot of Fare separated by whether they survived or not"
   ]
  },
  {
   "cell_type": "code",
   "execution_count": 153,
   "id": "2d4d8a42",
   "metadata": {},
   "outputs": [
    {
     "data": {
      "text/plain": [
       "Survived\n",
       "0    0.329690\n",
       "1    0.467647\n",
       "Name: Parch, dtype: float64"
      ]
     },
     "execution_count": 153,
     "metadata": {},
     "output_type": "execute_result"
    }
   ],
   "source": [
    "train.groupby(by=\"Survived\").mean().iloc[:,4] # average fare for survived and not "
   ]
  },
  {
   "cell_type": "markdown",
   "id": "e0e2c5fd",
   "metadata": {},
   "source": [
    "Survival seems to favor the higher fares."
   ]
  },
  {
   "cell_type": "markdown",
   "id": "97d299c8",
   "metadata": {},
   "source": [
    "## Embarked\n",
    "0 = C; 1 = Q; 2 = S"
   ]
  },
  {
   "cell_type": "code",
   "execution_count": 157,
   "id": "0fb0cc06",
   "metadata": {},
   "outputs": [
    {
     "data": {
      "text/plain": [
       "<seaborn.axisgrid.FacetGrid at 0x7fcc2edde1f0>"
      ]
     },
     "execution_count": 157,
     "metadata": {},
     "output_type": "execute_result"
    },
    {
     "data": {
      "image/png": "[encoded data removed]",
      "text/plain": [
       "<Figure size 360x360 with 1 Axes>"
      ]
     },
     "metadata": {
      "needs_background": "light"
     },
     "output_type": "display_data"
    }
   ],
   "source": [
    "sns.displot(train,x='Embarked')"
   ]
  },
  {
   "cell_type": "code",
   "execution_count": 158,
   "id": "bc90dbb6",
   "metadata": {},
   "outputs": [
    {
     "data": {
      "text/plain": [
       "<seaborn.axisgrid.FacetGrid at 0x7fcc30c46580>"
      ]
     },
     "execution_count": 158,
     "metadata": {},
     "output_type": "execute_result"
    },
    {
     "data": {
      "image/png": "[encoded data removed]",
      "text/plain": [
       "<Figure size 411.875x360 with 1 Axes>"
      ]
     },
     "metadata": {
      "needs_background": "light"
     },
     "output_type": "display_data"
    }
   ],
   "source": [
    "sns.catplot(x='Embarked',hue='Survived',data = train,kind=\"count\") #histogram of Embarked based on Survival"
   ]
  },
  {
   "cell_type": "code",
   "execution_count": 156,
   "id": "5c2f9d4a",
   "metadata": {},
   "outputs": [
    {
     "data": {
      "text/plain": [
       "Embarked\n",
       "0    0.553571\n",
       "1    0.389610\n",
       "2    0.336957\n",
       "Name: Survived, dtype: float64"
      ]
     },
     "execution_count": 156,
     "metadata": {},
     "output_type": "execute_result"
    }
   ],
   "source": [
    "train.groupby(by=\"Embarked\").mean().iloc[:,0] # Embarked and survival rate"
   ]
  },
  {
   "cell_type": "markdown",
   "id": "b6315c4c",
   "metadata": {},
   "source": [
    "The only significant difference in proportion is when the Port of Embarkation was in Cherbourg, and it has higher survival rate."
   ]
  },
  {
   "cell_type": "markdown",
   "id": "99d9f43d",
   "metadata": {},
   "source": [
    "## Sibsp and Parch"
   ]
  },
  {
   "cell_type": "code",
   "execution_count": 44,
   "id": "5cdde3b9",
   "metadata": {},
   "outputs": [
    {
     "data": {
      "text/plain": [
       "<seaborn.axisgrid.FacetGrid at 0x7fce277f20d0>"
      ]
     },
     "execution_count": 44,
     "metadata": {},
     "output_type": "execute_result"
    },
    {
     "data": {
      "image/png": "[encoded data removed]",
      "text/plain": [
       "<Figure size 360x360 with 1 Axes>"
      ]
     },
     "metadata": {
      "needs_background": "light"
     },
     "output_type": "display_data"
    }
   ],
   "source": [
    "sns.displot(train,x='SibSp')"
   ]
  },
  {
   "cell_type": "code",
   "execution_count": 45,
   "id": "d3aab7a9",
   "metadata": {},
   "outputs": [
    {
     "data": {
      "text/plain": [
       "<seaborn.axisgrid.FacetGrid at 0x7fce279412e0>"
      ]
     },
     "execution_count": 45,
     "metadata": {},
     "output_type": "execute_result"
    },
    {
     "data": {
      "image/png": "[encoded data removed]",
      "text/plain": [
       "<Figure size 360x360 with 1 Axes>"
      ]
     },
     "metadata": {
      "needs_background": "light"
     },
     "output_type": "display_data"
    }
   ],
   "source": [
    "sns.displot(train,x='Parch')"
   ]
  },
  {
   "cell_type": "markdown",
   "id": "07c507e0",
   "metadata": {},
   "source": [
    "* parch and sibsp are all number of family, so we can sum them up."
   ]
  },
  {
   "cell_type": "code",
   "execution_count": 161,
   "id": "3fce11dc",
   "metadata": {},
   "outputs": [],
   "source": [
    "train['family'] = train['SibSp'] + train['Parch']\n",
    "test['family'] = test['SibSp']+test['Parch']"
   ]
  },
  {
   "cell_type": "code",
   "execution_count": 162,
   "id": "dc3ddb2e",
   "metadata": {},
   "outputs": [],
   "source": [
    "test = test.drop(columns=['Parch','SibSp'])\n",
    "train = train.drop(columns=['Parch','SibSp'])"
   ]
  },
  {
   "cell_type": "code",
   "execution_count": 163,
   "id": "b3a6db1f",
   "metadata": {},
   "outputs": [
    {
     "data": {
      "text/plain": [
       "Survived\n",
       "0    22.117887\n",
       "1    48.209498\n",
       "Name: Fare, dtype: float64"
      ]
     },
     "execution_count": 163,
     "metadata": {},
     "output_type": "execute_result"
    }
   ],
   "source": [
    "train.groupby(by=\"Survived\").mean().iloc[:,3] # average family size for survived and not survived passenger"
   ]
  },
  {
   "cell_type": "code",
   "execution_count": 164,
   "id": "387077ee",
   "metadata": {},
   "outputs": [
    {
     "data": {
      "text/plain": [
       "family\n",
       "0     0.300935\n",
       "1     0.552795\n",
       "2     0.578431\n",
       "3     0.724138\n",
       "4     0.200000\n",
       "5     0.136364\n",
       "6     0.333333\n",
       "7     0.000000\n",
       "10    0.000000\n",
       "Name: Survived, dtype: float64"
      ]
     },
     "execution_count": 164,
     "metadata": {},
     "output_type": "execute_result"
    }
   ],
   "source": [
    "train.groupby(by=\"family\").mean().iloc[:,0] # family size and survival rate "
   ]
  },
  {
   "cell_type": "code",
   "execution_count": 165,
   "id": "401a68b8",
   "metadata": {},
   "outputs": [
    {
     "data": {
      "text/plain": [
       "<seaborn.axisgrid.FacetGrid at 0x7fcc30c08e80>"
      ]
     },
     "execution_count": 165,
     "metadata": {},
     "output_type": "execute_result"
    },
    {
     "data": {
      "image/png": "[encoded data removed]",
      "text/plain": [
       "<Figure size 411.875x360 with 1 Axes>"
      ]
     },
     "metadata": {
      "needs_background": "light"
     },
     "output_type": "display_data"
    }
   ],
   "source": [
    "sns.catplot(x='family',hue='Survived',data = train,kind=\"count\") "
   ]
  },
  {
   "cell_type": "markdown",
   "id": "900359ba",
   "metadata": {},
   "source": [
    "* It seems that being alone is related to lower survival rate.\n",
    "* But larger family size doesn't mean higher survival rate. Having a family of 3 seems to be the best one."
   ]
  },
  {
   "cell_type": "markdown",
   "id": "37fb36a8",
   "metadata": {},
   "source": [
    "### Interpretation:\n"
   ]
  },
  {
   "cell_type": "markdown",
   "id": "2bfea5ba",
   "metadata": {},
   "source": [
    "## 3. Building models\n",
    "Instead of using Python package, we will build our own functions. This is the biggest challenge of our project."
   ]
  },
  {
   "cell_type": "code",
   "execution_count": 169,
   "id": "b075a65f",
   "metadata": {},
   "outputs": [],
   "source": [
    "x = train.iloc[:,1:7]\n",
    "y = train.iloc[:,0]\n",
    "x_test = test"
   ]
  },
  {
   "cell_type": "code",
   "execution_count": 170,
   "id": "af3a8408",
   "metadata": {},
   "outputs": [
    {
     "data": {
      "text/plain": [
       "(417, 6)"
      ]
     },
     "execution_count": 170,
     "metadata": {},
     "output_type": "execute_result"
    }
   ],
   "source": [
    "x_test = test\n",
    "x_test.shape"
   ]
  },
  {
   "cell_type": "code",
   "execution_count": 171,
   "id": "f7b37276",
   "metadata": {},
   "outputs": [
    {
     "data": {
      "text/html": [
       "<div>\n",
       "<style scoped>\n",
       "    .dataframe tbody tr th:only-of-type {\n",
       "        vertical-align: middle;\n",
       "    }\n",
       "\n",
       "    .dataframe tbody tr th {\n",
       "        vertical-align: top;\n",
       "    }\n",
       "\n",
       "    .dataframe thead th {\n",
       "        text-align: right;\n",
       "    }\n",
       "</style>\n",
       "<table border=\"1\" class=\"dataframe\">\n",
       "  <thead>\n",
       "    <tr style=\"text-align: right;\">\n",
       "      <th></th>\n",
       "      <th>Pclass</th>\n",
       "      <th>Sex</th>\n",
       "      <th>Age</th>\n",
       "      <th>Fare</th>\n",
       "      <th>Embarked</th>\n",
       "      <th>family</th>\n",
       "    </tr>\n",
       "  </thead>\n",
       "  <tbody>\n",
       "    <tr>\n",
       "      <th>0</th>\n",
       "      <td>3</td>\n",
       "      <td>1</td>\n",
       "      <td>0</td>\n",
       "      <td>7.8292</td>\n",
       "      <td>1</td>\n",
       "      <td>0</td>\n",
       "    </tr>\n",
       "    <tr>\n",
       "      <th>1</th>\n",
       "      <td>3</td>\n",
       "      <td>0</td>\n",
       "      <td>0</td>\n",
       "      <td>7.0000</td>\n",
       "      <td>2</td>\n",
       "      <td>1</td>\n",
       "    </tr>\n",
       "    <tr>\n",
       "      <th>2</th>\n",
       "      <td>2</td>\n",
       "      <td>1</td>\n",
       "      <td>0</td>\n",
       "      <td>9.6875</td>\n",
       "      <td>1</td>\n",
       "      <td>0</td>\n",
       "    </tr>\n",
       "    <tr>\n",
       "      <th>3</th>\n",
       "      <td>3</td>\n",
       "      <td>1</td>\n",
       "      <td>0</td>\n",
       "      <td>8.6625</td>\n",
       "      <td>2</td>\n",
       "      <td>0</td>\n",
       "    </tr>\n",
       "    <tr>\n",
       "      <th>4</th>\n",
       "      <td>3</td>\n",
       "      <td>0</td>\n",
       "      <td>0</td>\n",
       "      <td>12.2875</td>\n",
       "      <td>2</td>\n",
       "      <td>2</td>\n",
       "    </tr>\n",
       "    <tr>\n",
       "      <th>...</th>\n",
       "      <td>...</td>\n",
       "      <td>...</td>\n",
       "      <td>...</td>\n",
       "      <td>...</td>\n",
       "      <td>...</td>\n",
       "      <td>...</td>\n",
       "    </tr>\n",
       "    <tr>\n",
       "      <th>413</th>\n",
       "      <td>3</td>\n",
       "      <td>1</td>\n",
       "      <td>1</td>\n",
       "      <td>8.0500</td>\n",
       "      <td>2</td>\n",
       "      <td>0</td>\n",
       "    </tr>\n",
       "    <tr>\n",
       "      <th>414</th>\n",
       "      <td>1</td>\n",
       "      <td>0</td>\n",
       "      <td>1</td>\n",
       "      <td>108.9000</td>\n",
       "      <td>0</td>\n",
       "      <td>0</td>\n",
       "    </tr>\n",
       "    <tr>\n",
       "      <th>415</th>\n",
       "      <td>3</td>\n",
       "      <td>1</td>\n",
       "      <td>1</td>\n",
       "      <td>7.2500</td>\n",
       "      <td>2</td>\n",
       "      <td>0</td>\n",
       "    </tr>\n",
       "    <tr>\n",
       "      <th>416</th>\n",
       "      <td>3</td>\n",
       "      <td>1</td>\n",
       "      <td>1</td>\n",
       "      <td>8.0500</td>\n",
       "      <td>2</td>\n",
       "      <td>0</td>\n",
       "    </tr>\n",
       "    <tr>\n",
       "      <th>417</th>\n",
       "      <td>3</td>\n",
       "      <td>1</td>\n",
       "      <td>1</td>\n",
       "      <td>22.3583</td>\n",
       "      <td>0</td>\n",
       "      <td>2</td>\n",
       "    </tr>\n",
       "  </tbody>\n",
       "</table>\n",
       "<p>417 rows × 6 columns</p>\n",
       "</div>"
      ],
      "text/plain": [
       "     Pclass  Sex  Age      Fare  Embarked  family\n",
       "0         3    1    0    7.8292         1       0\n",
       "1         3    0    0    7.0000         2       1\n",
       "2         2    1    0    9.6875         1       0\n",
       "3         3    1    0    8.6625         2       0\n",
       "4         3    0    0   12.2875         2       2\n",
       "..      ...  ...  ...       ...       ...     ...\n",
       "413       3    1    1    8.0500         2       0\n",
       "414       1    0    1  108.9000         0       0\n",
       "415       3    1    1    7.2500         2       0\n",
       "416       3    1    1    8.0500         2       0\n",
       "417       3    1    1   22.3583         0       2\n",
       "\n",
       "[417 rows x 6 columns]"
      ]
     },
     "execution_count": 171,
     "metadata": {},
     "output_type": "execute_result"
    }
   ],
   "source": [
    "x_test"
   ]
  },
  {
   "cell_type": "markdown",
   "id": "6c3163fb",
   "metadata": {},
   "source": [
    "### Logstic Regression"
   ]
  },
  {
   "cell_type": "code",
   "execution_count": 172,
   "id": "b122d6ab",
   "metadata": {},
   "outputs": [],
   "source": [
    "# define the functiona\n",
    "def fit(x, y,learning_rate,iterations): \n",
    "    m,n = x.shape\n",
    "    weight = np.zeros(n)\n",
    "    b0 = 0\n",
    "    for i in range(iterations): \n",
    "        y_hat = sigmoid(np.dot(x, weight) + b0)\n",
    "        loss = -1/m * np.sum(y * np.log(y_hat)) + (1 - y) * np.log(1-y_hat)\n",
    "        dW = 1/m * np.dot(x.T, (y_hat - y))\n",
    "        db = 1/m * np.sum(y_hat - y)\n",
    "        weight -= learning_rate * dW\n",
    "        b0 -= learning_rate * db \n",
    "    return weight, b0\n",
    "\n",
    "def sigmoid(input):    \n",
    "    output = 1 / (1 + np.exp(-input))\n",
    "    return output"
   ]
  },
  {
   "cell_type": "markdown",
   "id": "e2691aad",
   "metadata": {},
   "source": [
    "* learning_rate = 0.02, iteration = 1000"
   ]
  },
  {
   "cell_type": "code",
   "execution_count": 173,
   "id": "f868fd22",
   "metadata": {},
   "outputs": [
    {
     "name": "stderr",
     "output_type": "stream",
     "text": [
      "<ipython-input-172-e44bae657476>:8: RuntimeWarning: divide by zero encountered in log\n",
      "  loss = -1/m * np.sum(y * np.log(y_hat)) + (1 - y) * np.log(1-y_hat)\n"
     ]
    },
    {
     "data": {
      "text/plain": [
       "(array([-0.11632947, -1.63038494, -0.45022516,  0.29837101, -0.19167158,\n",
       "        -0.54339937]),\n",
       " 0.0838030803327668)"
      ]
     },
     "execution_count": 173,
     "metadata": {},
     "output_type": "execute_result"
    }
   ],
   "source": [
    "fit(x, y,0.02,1000)"
   ]
  },
  {
   "cell_type": "code",
   "execution_count": 175,
   "id": "9a69a82e",
   "metadata": {},
   "outputs": [
    {
     "name": "stderr",
     "output_type": "stream",
     "text": [
      "<ipython-input-172-e44bae657476>:8: RuntimeWarning: divide by zero encountered in log\n",
      "  loss = -1/m * np.sum(y * np.log(y_hat)) + (1 - y) * np.log(1-y_hat)\n"
     ]
    }
   ],
   "source": [
    "parameter = fit(x, y,0.02,1000)\n",
    "predict = np.dot(x_test, parameter[0]) + parameter[1]"
   ]
  },
  {
   "cell_type": "markdown",
   "id": "89be5ebd",
   "metadata": {},
   "source": [
    "* learning_rate = 0.02, iteration = 1000"
   ]
  },
  {
   "cell_type": "code",
   "execution_count": 176,
   "id": "dddfeff2",
   "metadata": {},
   "outputs": [
    {
     "name": "stderr",
     "output_type": "stream",
     "text": [
      "<ipython-input-172-e44bae657476>:8: RuntimeWarning: divide by zero encountered in log\n",
      "  loss = -1/m * np.sum(y * np.log(y_hat)) + (1 - y) * np.log(1-y_hat)\n"
     ]
    },
    {
     "data": {
      "text/plain": [
       "(array([-0.29728889, -0.97797396, -0.35747675,  0.2061635 , -0.27721924,\n",
       "        -0.46041965]),\n",
       " -0.057859052121414435)"
      ]
     },
     "execution_count": 176,
     "metadata": {},
     "output_type": "execute_result"
    }
   ],
   "source": [
    "fit(x, y,0.02,500)"
   ]
  },
  {
   "cell_type": "code",
   "execution_count": 178,
   "id": "5e0b6f80",
   "metadata": {},
   "outputs": [
    {
     "name": "stderr",
     "output_type": "stream",
     "text": [
      "<ipython-input-172-e44bae657476>:8: RuntimeWarning: divide by zero encountered in log\n",
      "  loss = -1/m * np.sum(y * np.log(y_hat)) + (1 - y) * np.log(1-y_hat)\n"
     ]
    },
    {
     "ename": "ValueError",
     "evalue": "setting an array element with a sequence.",
     "output_type": "error",
     "traceback": [
      "\u001b[0;31m---------------------------------------------------------------------------\u001b[0m",
      "\u001b[0;31mTypeError\u001b[0m                                 Traceback (most recent call last)",
      "\u001b[0;31mTypeError\u001b[0m: only size-1 arrays can be converted to Python scalars",
      "\nThe above exception was the direct cause of the following exception:\n",
      "\u001b[0;31mValueError\u001b[0m                                Traceback (most recent call last)",
      "\u001b[0;32m<ipython-input-178-4c23699830da>\u001b[0m in \u001b[0;36m<module>\u001b[0;34m\u001b[0m\n\u001b[1;32m      1\u001b[0m \u001b[0mparameter\u001b[0m \u001b[0;34m=\u001b[0m \u001b[0mfit\u001b[0m\u001b[0;34m(\u001b[0m\u001b[0mx\u001b[0m\u001b[0;34m,\u001b[0m \u001b[0my\u001b[0m\u001b[0;34m,\u001b[0m\u001b[0;36m0.02\u001b[0m\u001b[0;34m,\u001b[0m\u001b[0;36m1000\u001b[0m\u001b[0;34m)\u001b[0m\u001b[0;34m\u001b[0m\u001b[0;34m\u001b[0m\u001b[0m\n\u001b[0;32m----> 2\u001b[0;31m \u001b[0mpredict\u001b[0m \u001b[0;34m=\u001b[0m \u001b[0mnp\u001b[0m\u001b[0;34m.\u001b[0m\u001b[0mdot\u001b[0m\u001b[0;34m(\u001b[0m\u001b[0mx_test\u001b[0m\u001b[0;34m,\u001b[0m \u001b[0mparameter\u001b[0m\u001b[0;34m)\u001b[0m \u001b[0;34m+\u001b[0m \u001b[0mparameter\u001b[0m\u001b[0;34m[\u001b[0m\u001b[0;36m1\u001b[0m\u001b[0;34m]\u001b[0m\u001b[0;34m\u001b[0m\u001b[0;34m\u001b[0m\u001b[0m\n\u001b[0m",
      "\u001b[0;32m<__array_function__ internals>\u001b[0m in \u001b[0;36mdot\u001b[0;34m(*args, **kwargs)\u001b[0m\n",
      "\u001b[0;31mValueError\u001b[0m: setting an array element with a sequence."
     ]
    }
   ],
   "source": [
    "parameter = fit(x, y,0.02,1000)\n",
    "predict = np.dot(x_test, parameter) + parameter[1]"
   ]
  },
  {
   "cell_type": "markdown",
   "id": "7123d041",
   "metadata": {},
   "source": [
    "### Logstic Regression"
   ]
  },
  {
   "cell_type": "code",
   "execution_count": 188,
   "id": "8df1aa78",
   "metadata": {},
   "outputs": [],
   "source": [
    "x_svm_train = pd.DataFrame(sc.fit_transform(x))\n",
    "x_svm_test = pd.DataFrame(sc.transform(x_test))"
   ]
  },
  {
   "cell_type": "code",
   "execution_count": 189,
   "id": "da1843b8",
   "metadata": {},
   "outputs": [],
   "source": [
    "# want all variables in the same range so we have to normalize the data\n",
    "from sklearn.preprocessing import StandardScaler\n",
    "sc = StandardScaler()"
   ]
  },
  {
   "cell_type": "code",
   "execution_count": 191,
   "id": "e87a121d",
   "metadata": {},
   "outputs": [],
   "source": [
    "from sklearn import svm\n",
    "#create a classifier\n",
    "cls = svm.SVC(kernel=\"linear\")\n",
    "#train the model\n",
    "cls.fit(x_svm_train,y)\n",
    "#predict the response\n",
    "pred = cls.predict(x_svm_test)"
   ]
  },
  {
   "cell_type": "code",
   "execution_count": 193,
   "id": "8d21628c",
   "metadata": {},
   "outputs": [
    {
     "data": {
      "text/plain": [
       "KNeighborsClassifier()"
      ]
     },
     "execution_count": 193,
     "metadata": {},
     "output_type": "execute_result"
    }
   ],
   "source": [
    "from sklearn.neighbors import KNeighborsClassifier\n",
    "knn_model = KNeighborsClassifier(n_neighbors=5)\n",
    "knn_model.fit(x,y)"
   ]
  },
  {
   "cell_type": "code",
   "execution_count": 195,
   "id": "4044cbbe",
   "metadata": {},
   "outputs": [],
   "source": [
    "y_pred = knn_model.predict(x_test)"
   ]
  }
 ],
 "metadata": {
  "kernelspec": {
   "display_name": "Python 3",
   "language": "python",
   "name": "python3"
  },
  "language_info": {
   "codemirror_mode": {
    "name": "ipython",
    "version": 3
   },
   "file_extension": ".py",
   "mimetype": "text/x-python",
   "name": "python",
   "nbconvert_exporter": "python",
   "pygments_lexer": "ipython3",
   "version": "3.8.8"
  }
 },
 "nbformat": 4,
 "nbformat_minor": 5
}
